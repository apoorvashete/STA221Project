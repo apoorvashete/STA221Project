{
 "cells": [
  {
   "cell_type": "code",
   "execution_count": 2,
   "id": "8c87dc66",
   "metadata": {},
   "outputs": [],
   "source": [
    "import pandas as pd"
   ]
  },
  {
   "cell_type": "code",
   "execution_count": 42,
   "id": "31dc95bd",
   "metadata": {},
   "outputs": [],
   "source": [
    "#loading coaches career data\n",
    "coaches_career_data = pd.read_csv('coaches_career.txt', header=0)"
   ]
  },
  {
   "cell_type": "code",
   "execution_count": 43,
   "id": "964c4420",
   "metadata": {},
   "outputs": [
    {
     "name": "stdout",
     "output_type": "stream",
     "text": [
      "        coachid firstname   lastname  season_win  season_loss  playoff_win  \\\n",
      "0    ADELMRI01       Rick    Adelman         658          411           67   \n",
      "1    ADUBARI01     Richie    Adubato         127          240            3   \n",
      "2    AINGEDA01      Danny      Ainge         136           90            3   \n",
      "3    ALBECST01       Stan     Albeck         307          267           18   \n",
      "4    ARMSTPA01       Paul  Armstrong          22           32            0   \n",
      "..          ...       ...        ...         ...          ...          ...   \n",
      "249  WINTEBR01      Brian    Winters          36          148            0   \n",
      "250  WITTMRA01      Randy    Wittman          62          102            0   \n",
      "251  WOHLDA01        Dave       Wohl          65          114            0   \n",
      "252  WOLFCH01     Charles       Wolf         143          187            7   \n",
      "253  YOUNGDR01      Draff      Young           0            3            0   \n",
      "\n",
      "     playoff_loss  \n",
      "0              60  \n",
      "1               5  \n",
      "2               9  \n",
      "3              26  \n",
      "4               0  \n",
      "..            ...  \n",
      "249             0  \n",
      "250             0  \n",
      "251             3  \n",
      "252             9  \n",
      "253             0  \n",
      "\n",
      "[254 rows x 7 columns]\n"
     ]
    }
   ],
   "source": [
    "print(coaches_career_data)"
   ]
  },
  {
   "cell_type": "code",
   "execution_count": 13,
   "id": "65d7324e",
   "metadata": {},
   "outputs": [
    {
     "name": "stdout",
     "output_type": "stream",
     "text": [
      "<class 'pandas.core.frame.DataFrame'>\n",
      "RangeIndex: 255 entries, 0 to 254\n",
      "Data columns (total 7 columns):\n",
      " #   Column  Non-Null Count  Dtype \n",
      "---  ------  --------------  ----- \n",
      " 0   0       255 non-null    object\n",
      " 1   1       255 non-null    object\n",
      " 2   2       255 non-null    object\n",
      " 3   3       255 non-null    object\n",
      " 4   4       255 non-null    object\n",
      " 5   5       255 non-null    object\n",
      " 6   6       255 non-null    object\n",
      "dtypes: object(7)\n",
      "memory usage: 14.1+ KB\n",
      "None\n"
     ]
    }
   ],
   "source": [
    "print(coaches_career_data.info())"
   ]
  },
  {
   "cell_type": "code",
   "execution_count": 16,
   "id": "e71c9e7b",
   "metadata": {},
   "outputs": [
    {
     "data": {
      "text/plain": [
       "0      False\n",
       "1      False\n",
       "2      False\n",
       "3      False\n",
       "4      False\n",
       "       ...  \n",
       "250    False\n",
       "251    False\n",
       "252    False\n",
       "253    False\n",
       "254    False\n",
       "Length: 255, dtype: bool"
      ]
     },
     "execution_count": 16,
     "metadata": {},
     "output_type": "execute_result"
    }
   ],
   "source": [
    "#checking if any duplicate rows, return True if any are duplicate\n",
    "coaches_career_data.duplicated()"
   ]
  },
  {
   "cell_type": "code",
   "execution_count": 15,
   "id": "b3afa9f1",
   "metadata": {},
   "outputs": [
    {
     "data": {
      "text/plain": [
       "0"
      ]
     },
     "execution_count": 15,
     "metadata": {},
     "output_type": "execute_result"
    }
   ],
   "source": [
    "#summing up the duplicate rows, here there are 0 duplicate rows\n",
    "coaches_career_data.duplicated().sum() "
   ]
  },
  {
   "cell_type": "code",
   "execution_count": 29,
   "id": "1a899874",
   "metadata": {},
   "outputs": [
    {
     "name": "stdout",
     "output_type": "stream",
     "text": [
      "<class 'pandas.core.frame.DataFrame'>\n",
      "RangeIndex: 255 entries, 0 to 254\n",
      "Data columns (total 7 columns):\n",
      " #   Column  Non-Null Count  Dtype \n",
      "---  ------  --------------  ----- \n",
      " 0   0       255 non-null    object\n",
      " 1   1       255 non-null    object\n",
      " 2   2       255 non-null    object\n",
      " 3   3       255 non-null    object\n",
      " 4   4       255 non-null    object\n",
      " 5   5       255 non-null    object\n",
      " 6   6       255 non-null    object\n",
      "dtypes: object(7)\n",
      "memory usage: 14.1+ KB\n"
     ]
    }
   ],
   "source": [
    "#dropping null values, here there are no null values\n",
    "df_records_dropped = coaches_career_data.dropna(axis=0, how='any')\n",
    "df_records_dropped.info()"
   ]
  },
  {
   "cell_type": "code",
   "execution_count": 44,
   "id": "2558d8e9",
   "metadata": {},
   "outputs": [
    {
     "name": "stdout",
     "output_type": "stream",
     "text": [
      "         coachid  year  yr_order firstname  lastname  season_win  season_loss  \\\n",
      "0     RUSSEJO01   1946         1      John   Russell          22           38   \n",
      "1     OLSENHA01   1946         1    Harold     Olsen          39           22   \n",
      "2     DEHNEDU01   1946         1     Dutch   Dehnert          17           20   \n",
      "3     CLIFFRO01   1946         2       Roy  Clifford          13           10   \n",
      "4     CURTIGL01   1946         1     Glenn    Curtis          12           22   \n",
      "...          ...   ...       ...       ...       ...         ...          ...   \n",
      "1236  POPOVGR01   2003         1     Gregg  Popovich          57           25   \n",
      "1237  MCMILNA01   2003         1      Nate  McMillan          37           45   \n",
      "1238  ONEILKE01   2003         1     Kevin   O'Neill          33           49   \n",
      "1239  SLOANJE01   2003         1     Jerry     Sloan          42           40   \n",
      "1240  JORDAED01   2003         1     Eddie    Jordan          25           57   \n",
      "\n",
      "      playoff_win  playoff_loss team  \n",
      "0               0             0  BOS  \n",
      "1               5             6  CH1  \n",
      "2               0             0  CL1  \n",
      "3               1             2  CL1  \n",
      "4               0             0  DE1  \n",
      "...           ...           ...  ...  \n",
      "1236            6             4  SAS  \n",
      "1237            0             0  SEA  \n",
      "1238            0             0  TOR  \n",
      "1239            0             0  UTA  \n",
      "1240            0             0  WAS  \n",
      "\n",
      "[1241 rows x 10 columns]\n"
     ]
    }
   ],
   "source": [
    "#loading coaches_season data\n",
    "coaches_season_data= pd.read_csv('coaches_season.txt', header=0)\n",
    "print(coaches_season_data)"
   ]
  },
  {
   "cell_type": "code",
   "execution_count": 32,
   "id": "39838396",
   "metadata": {},
   "outputs": [
    {
     "name": "stdout",
     "output_type": "stream",
     "text": [
      "<class 'pandas.core.frame.DataFrame'>\n",
      "RangeIndex: 1242 entries, 0 to 1241\n",
      "Data columns (total 10 columns):\n",
      " #   Column  Non-Null Count  Dtype \n",
      "---  ------  --------------  ----- \n",
      " 0   0       1242 non-null   object\n",
      " 1   1       1242 non-null   object\n",
      " 2   2       1242 non-null   object\n",
      " 3   3       1242 non-null   object\n",
      " 4   4       1242 non-null   object\n",
      " 5   5       1242 non-null   object\n",
      " 6   6       1242 non-null   object\n",
      " 7   7       1242 non-null   object\n",
      " 8   8       1242 non-null   object\n",
      " 9   9       1242 non-null   object\n",
      "dtypes: object(10)\n",
      "memory usage: 97.2+ KB\n",
      "None\n"
     ]
    }
   ],
   "source": [
    "print(coaches_season_data.info())"
   ]
  },
  {
   "cell_type": "code",
   "execution_count": 33,
   "id": "196154b9",
   "metadata": {},
   "outputs": [
    {
     "name": "stdout",
     "output_type": "stream",
     "text": [
      "            0     1         2          3         4           5            6  \\\n",
      "0     coachid  year  yr_order  firstname  lastname  season_win  season_loss   \n",
      "1  RUSSEJO01   1946         1       John   Russell          22           38   \n",
      "2  OLSENHA01   1946         1     Harold     Olsen          39           22   \n",
      "\n",
      "             7             8     9  \n",
      "0  playoff_win  playoff_loss  team  \n",
      "1            0             0   BOS  \n",
      "2            5             6   CH1  \n"
     ]
    }
   ],
   "source": [
    "print(coaches_season_data.head(3))"
   ]
  },
  {
   "cell_type": "code",
   "execution_count": 34,
   "id": "6b6432c0",
   "metadata": {},
   "outputs": [
    {
     "data": {
      "text/plain": [
       "0       False\n",
       "1       False\n",
       "2       False\n",
       "3       False\n",
       "4       False\n",
       "        ...  \n",
       "1237    False\n",
       "1238    False\n",
       "1239    False\n",
       "1240    False\n",
       "1241    False\n",
       "Length: 1242, dtype: bool"
      ]
     },
     "execution_count": 34,
     "metadata": {},
     "output_type": "execute_result"
    }
   ],
   "source": [
    "#checking if any duplicate rows, return True if any are duplicate\n",
    "coaches_season_data.duplicated()"
   ]
  },
  {
   "cell_type": "code",
   "execution_count": 35,
   "id": "e2bf2669",
   "metadata": {},
   "outputs": [
    {
     "data": {
      "text/plain": [
       "0"
      ]
     },
     "execution_count": 35,
     "metadata": {},
     "output_type": "execute_result"
    }
   ],
   "source": [
    "#summing up the duplicate rows, here there are 0 duplicate rows\n",
    "coaches_season_data.duplicated().sum() "
   ]
  },
  {
   "cell_type": "code",
   "execution_count": 36,
   "id": "58a7790e",
   "metadata": {},
   "outputs": [
    {
     "name": "stdout",
     "output_type": "stream",
     "text": [
      "<class 'pandas.core.frame.DataFrame'>\n",
      "RangeIndex: 1242 entries, 0 to 1241\n",
      "Data columns (total 10 columns):\n",
      " #   Column  Non-Null Count  Dtype \n",
      "---  ------  --------------  ----- \n",
      " 0   0       1242 non-null   object\n",
      " 1   1       1242 non-null   object\n",
      " 2   2       1242 non-null   object\n",
      " 3   3       1242 non-null   object\n",
      " 4   4       1242 non-null   object\n",
      " 5   5       1242 non-null   object\n",
      " 6   6       1242 non-null   object\n",
      " 7   7       1242 non-null   object\n",
      " 8   8       1242 non-null   object\n",
      " 9   9       1242 non-null   object\n",
      "dtypes: object(10)\n",
      "memory usage: 97.2+ KB\n"
     ]
    }
   ],
   "source": [
    "#dropping null values, here there are no null values\n",
    "df_records_dropped2 = coaches_season_data.dropna(axis=0, how='any')\n",
    "df_records_dropped2.info()"
   ]
  },
  {
   "cell_type": "code",
   "execution_count": 59,
   "id": "a05f5b6e",
   "metadata": {
    "scrolled": true
   },
   "outputs": [
    {
     "name": "stdout",
     "output_type": "stream",
     "text": [
      "         coachid firstname   lastname  season_win  season_loss  playoff_win  \\\n",
      "0     ADELMRI01       Rick    Adelman         658          411           67   \n",
      "1     ADUBARI01     Richie    Adubato         127          240            3   \n",
      "2     AINGEDA01      Danny      Ainge         136           90            3   \n",
      "3     ALBECST01       Stan     Albeck         307          267           18   \n",
      "4     ARMSTPA01       Paul  Armstrong          22           32            0   \n",
      "...          ...       ...        ...         ...          ...          ...   \n",
      "1413  ADELMRI01       Rick    Adelman          55           27            7   \n",
      "1414  POPOVGR01      Gregg   Popovich          57           25            6   \n",
      "1415  MCMILNA01       Nate   McMillan          37           45            0   \n",
      "1416  SLOANJE01      Jerry      Sloan          42           40            0   \n",
      "1417  JORDAED01      Eddie     Jordan          25           57            0   \n",
      "\n",
      "      playoff_loss    year  yr_order team  \n",
      "0               60     NaN       NaN  NaN  \n",
      "1                5     NaN       NaN  NaN  \n",
      "2                9     NaN       NaN  NaN  \n",
      "3               26     NaN       NaN  NaN  \n",
      "4                0  1948.0       2.0  DET  \n",
      "...            ...     ...       ...  ...  \n",
      "1413             5  2003.0       1.0  SAC  \n",
      "1414             4  2003.0       1.0  SAS  \n",
      "1415             0  2003.0       1.0  SEA  \n",
      "1416             0  2003.0       1.0  UTA  \n",
      "1417             0  2003.0       1.0  WAS  \n",
      "\n",
      "[1418 rows x 10 columns]\n"
     ]
    }
   ],
   "source": [
    "#merging the coaches data\n",
    "merged_coaches_data = pd.merge(coaches_career_data, coaches_season_data, how= 'outer',on= ['coachid', 'firstname' , 'lastname' , 'season_win', 'season_loss', 'playoff_win', 'playoff_loss'])\n",
    "print(merged_coaches_data)"
   ]
  },
  {
   "cell_type": "code",
   "execution_count": 60,
   "id": "a30bad06",
   "metadata": {},
   "outputs": [
    {
     "data": {
      "text/plain": [
       "0"
      ]
     },
     "execution_count": 60,
     "metadata": {},
     "output_type": "execute_result"
    }
   ],
   "source": [
    "#checking if any duplicate rows, return True if any are duplicate\n",
    "merged_coaches_data.duplicated()\n",
    "#summing up the duplicate rows, here there are 0 duplicate rows\n",
    "merged_coaches_data.duplicated().sum() "
   ]
  }
 ],
 "metadata": {
  "kernelspec": {
   "display_name": "Python 3 (ipykernel)",
   "language": "python",
   "name": "python3"
  },
  "language_info": {
   "codemirror_mode": {
    "name": "ipython",
    "version": 3
   },
   "file_extension": ".py",
   "mimetype": "text/x-python",
   "name": "python",
   "nbconvert_exporter": "python",
   "pygments_lexer": "ipython3",
   "version": "3.9.13"
  }
 },
 "nbformat": 4,
 "nbformat_minor": 5
}
