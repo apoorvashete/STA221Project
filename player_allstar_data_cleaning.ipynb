{
 "cells": [
  {
   "cell_type": "code",
   "execution_count": 1,
   "id": "908bfc29",
   "metadata": {},
   "outputs": [],
   "source": [
    "import pandas as pd\n",
    "import numpy as np\n",
    "from sklearn.preprocessing import LabelEncoder"
   ]
  },
  {
   "cell_type": "code",
   "execution_count": 5,
   "id": "61edde15",
   "metadata": {},
   "outputs": [
    {
     "name": "stdout",
     "output_type": "stream",
     "text": [
      "           ilkid  year firstname      lastname conference leag  gp  minutes  \\\n",
      "0     AbdulKa01   1978     Karem  Abdul-Jabbar       west    N   1       28   \n",
      "1     AbdulKa01   1969     Karem  Abdul-Jabbar       east    N   1       18   \n",
      "2     AbdulKa01   1988    Kareem  Abdul-Jabbar       west    N   1       13   \n",
      "3     AbdulKa01   1987    Kareem  Abdul-Jabbar       west    N   1       14   \n",
      "4     AbdulKa01   1986    Kareem  Abdul-Jabbar       west    N   1       27   \n",
      "...          ...   ...       ...           ...        ...  ...  ..      ...   \n",
      "1457  YardlGe01   1956    George       Yardley       west    N   1       25   \n",
      "1458  YardlGe01   1955    George       Yardley       west    N   1       19   \n",
      "1459  YardlGe01   1954    George       Yardley       west    N   1       22   \n",
      "1460  YardlGe01   1959    George       Yardley       east    N   1       16   \n",
      "1461  ZasloMa01   1951       Max     Zaslofsky       east    N   1       25   \n",
      "\n",
      "       pts  dreb  ...  stl  blk  turnover  pf   fga  fgm  fta  ftm  tpa  tpm  \n",
      "0     11.0   NaN  ...  NaN  NaN       NaN NaN  12.0  5.0  2.0  1.0  NaN  NaN  \n",
      "1     10.0   NaN  ...  NaN  NaN       NaN NaN   8.0  4.0  2.0  2.0  NaN  NaN  \n",
      "2      4.0   NaN  ...  NaN  NaN       NaN NaN   6.0  1.0  2.0  2.0  NaN  NaN  \n",
      "3     10.0   NaN  ...  NaN  NaN       NaN NaN   9.0  4.0  2.0  2.0  NaN  NaN  \n",
      "4     10.0   NaN  ...  NaN  NaN       NaN NaN   9.0  4.0  2.0  2.0  NaN  NaN  \n",
      "...    ...   ...  ...  ...  ...       ...  ..   ...  ...  ...  ...  ...  ...  \n",
      "1457   9.0   NaN  ...  NaN  NaN       NaN NaN  10.0  4.0  1.0  1.0  NaN  NaN  \n",
      "1458   8.0   NaN  ...  NaN  NaN       NaN NaN   7.0  3.0  3.0  2.0  NaN  NaN  \n",
      "1459  11.0   NaN  ...  NaN  NaN       NaN NaN  11.0  4.0  4.0  3.0  NaN  NaN  \n",
      "1460  11.0   NaN  ...  NaN  NaN       NaN NaN   9.0  5.0  2.0  1.0  NaN  NaN  \n",
      "1461   1.0   NaN  ...  NaN  NaN       NaN NaN   7.0  3.0  5.0  5.0  NaN  NaN  \n",
      "\n",
      "[1462 rows x 23 columns]\n"
     ]
    }
   ],
   "source": [
    "#loading player allstar data\n",
    "player_allstar_data = pd.read_csv('player_allstar.txt', header=0)\n",
    "print(player_allstar_data)"
   ]
  },
  {
   "cell_type": "code",
   "execution_count": 6,
   "id": "a1d3a9d7",
   "metadata": {},
   "outputs": [
    {
     "name": "stdout",
     "output_type": "stream",
     "text": [
      "<class 'pandas.core.frame.DataFrame'>\n",
      "RangeIndex: 1462 entries, 0 to 1461\n",
      "Data columns (total 23 columns):\n",
      " #   Column      Non-Null Count  Dtype  \n",
      "---  ------      --------------  -----  \n",
      " 0   ilkid       1462 non-null   object \n",
      " 1   year        1462 non-null   int64  \n",
      " 2   firstname   1462 non-null   object \n",
      " 3   lastname    1462 non-null   object \n",
      " 4   conference  1462 non-null   object \n",
      " 5   leag        1462 non-null   object \n",
      " 6   gp          1462 non-null   int64  \n",
      " 7   minutes     1462 non-null   int64  \n",
      " 8   pts         1414 non-null   float64\n",
      " 9   dreb        323 non-null    float64\n",
      " 10  oreb        323 non-null    float64\n",
      " 11  reb         1414 non-null   float64\n",
      " 12  asts        1414 non-null   float64\n",
      " 13  stl         228 non-null    float64\n",
      " 14  blk         228 non-null    float64\n",
      " 15  turnover    323 non-null    float64\n",
      " 16  pf          370 non-null    float64\n",
      " 17  fga         1414 non-null   float64\n",
      " 18  fgm         1414 non-null   float64\n",
      " 19  fta         1414 non-null   float64\n",
      " 20  ftm         1414 non-null   float64\n",
      " 21  tpa         370 non-null    float64\n",
      " 22  tpm         370 non-null    float64\n",
      "dtypes: float64(15), int64(3), object(5)\n",
      "memory usage: 262.8+ KB\n",
      "None\n"
     ]
    }
   ],
   "source": [
    "print(player_allstar_data.info())"
   ]
  },
  {
   "cell_type": "code",
   "execution_count": 7,
   "id": "07736f72",
   "metadata": {},
   "outputs": [
    {
     "data": {
      "text/plain": [
       "0       False\n",
       "1       False\n",
       "2       False\n",
       "3       False\n",
       "4       False\n",
       "        ...  \n",
       "1457    False\n",
       "1458    False\n",
       "1459    False\n",
       "1460    False\n",
       "1461    False\n",
       "Length: 1462, dtype: bool"
      ]
     },
     "execution_count": 7,
     "metadata": {},
     "output_type": "execute_result"
    }
   ],
   "source": [
    "#checking if any duplicate rows, return True if any are duplicate\n",
    "player_allstar_data.duplicated()"
   ]
  },
  {
   "cell_type": "code",
   "execution_count": 8,
   "id": "0a22dadb",
   "metadata": {},
   "outputs": [
    {
     "data": {
      "text/plain": [
       "0"
      ]
     },
     "execution_count": 8,
     "metadata": {},
     "output_type": "execute_result"
    }
   ],
   "source": [
    "#summing up the duplicate rows, here there are 0 duplicate rows\n",
    "player_allstar_data.duplicated().sum() "
   ]
  },
  {
   "cell_type": "code",
   "execution_count": 9,
   "id": "472a878e",
   "metadata": {},
   "outputs": [
    {
     "name": "stdout",
     "output_type": "stream",
     "text": [
      "<class 'pandas.core.frame.DataFrame'>\n",
      "Int64Index: 228 entries, 19 to 1447\n",
      "Data columns (total 23 columns):\n",
      " #   Column      Non-Null Count  Dtype  \n",
      "---  ------      --------------  -----  \n",
      " 0   ilkid       228 non-null    object \n",
      " 1   year        228 non-null    int64  \n",
      " 2   firstname   228 non-null    object \n",
      " 3   lastname    228 non-null    object \n",
      " 4   conference  228 non-null    object \n",
      " 5   leag        228 non-null    object \n",
      " 6   gp          228 non-null    int64  \n",
      " 7   minutes     228 non-null    int64  \n",
      " 8   pts         228 non-null    float64\n",
      " 9   dreb        228 non-null    float64\n",
      " 10  oreb        228 non-null    float64\n",
      " 11  reb         228 non-null    float64\n",
      " 12  asts        228 non-null    float64\n",
      " 13  stl         228 non-null    float64\n",
      " 14  blk         228 non-null    float64\n",
      " 15  turnover    228 non-null    float64\n",
      " 16  pf          228 non-null    float64\n",
      " 17  fga         228 non-null    float64\n",
      " 18  fgm         228 non-null    float64\n",
      " 19  fta         228 non-null    float64\n",
      " 20  ftm         228 non-null    float64\n",
      " 21  tpa         228 non-null    float64\n",
      " 22  tpm         228 non-null    float64\n",
      "dtypes: float64(15), int64(3), object(5)\n",
      "memory usage: 42.8+ KB\n"
     ]
    }
   ],
   "source": [
    "#dropping null values\n",
    "# The first line of code drops all the rows that have null values in any of their columns. \n",
    "# The axis=0 argument specifies that rows (not columns) should be dropped, and the how='any' \n",
    "# argument specifies that any row with at least one null value should be dropped.\n",
    "df_records_dropped = player_allstar_data.dropna(axis=0, how='any')\n",
    "df_records_dropped.info()"
   ]
  },
  {
   "cell_type": "code",
   "execution_count": 10,
   "id": "11361a89",
   "metadata": {},
   "outputs": [
    {
     "name": "stdout",
     "output_type": "stream",
     "text": [
      "           ilkid  year firstname  lastname conference leag  gp  minutes   pts  \\\n",
      "19    ABDURSH01   2001   Shareef   A-Rahim       east    N   1       21   9.0   \n",
      "26    AllenRa02   2001       Ray     Allen       east    N   1       25  15.0   \n",
      "27    AllenRa02   2000       Ray     Allen       east    N   1       19  15.0   \n",
      "28    AllenRa02   1999       Ray     Allen       east    N   1       17  14.0   \n",
      "29    AllenRa02   2003       Ray     Allen       west    N   1       23  16.0   \n",
      "...          ...   ...       ...       ...        ...  ...  ..      ...   ...   \n",
      "1380  WebbeCh01   1996     Chris    Webber       east    N   1       14   2.0   \n",
      "1438  WilliCh02   1972     Chuck  Williams       west    A   1       16   5.0   \n",
      "1441  WilliJa01   1997    Jayson  Williams       east    N   1       19   4.0   \n",
      "1446  WiseWi01    1972    Willie      Wise       west    A   1       37  26.0   \n",
      "1447  WiseWi01    1973    Willie      Wise       west    A   1       25   8.0   \n",
      "\n",
      "      dreb  ...  stl  blk  turnover   pf   fga   fgm  fta  ftm   tpa  tpm  \n",
      "19     5.0  ...  0.0  0.0       0.0  2.0   4.0   4.0  0.0  0.0   1.0  1.0  \n",
      "26     2.0  ...  3.0  0.0       1.0  3.0  17.0   6.0  0.0  0.0  10.0  3.0  \n",
      "27     2.0  ...  1.0  1.0       1.0  0.0  15.0   7.0  0.0  0.0   7.0  1.0  \n",
      "28     0.0  ...  3.0  1.0       3.0  2.0  13.0   4.0  6.0  5.0   6.0  1.0  \n",
      "29     1.0  ...  1.0  0.0       3.0  2.0  13.0   6.0  4.0  3.0   4.0  1.0  \n",
      "...    ...  ...  ...  ...       ...  ...   ...   ...  ...  ...   ...  ...  \n",
      "1380   3.0  ...  1.0  0.0       3.0  3.0   4.0   1.0  0.0  0.0   0.0  0.0  \n",
      "1438   0.0  ...  0.0  0.0       1.0  2.0   3.0   2.0  3.0  1.0   0.0  0.0  \n",
      "1441   7.0  ...  0.0  0.0       0.0  2.0   3.0   2.0  0.0  0.0   0.0  0.0  \n",
      "1446   4.0  ...  0.0  0.0       1.0  3.0  20.0  11.0  4.0  4.0   0.0  0.0  \n",
      "1447   1.0  ...  1.0  1.0       1.0  1.0  12.0   4.0  0.0  0.0   0.0  0.0  \n",
      "\n",
      "[228 rows x 23 columns]\n"
     ]
    }
   ],
   "source": [
    "print(df_records_dropped)"
   ]
  },
  {
   "cell_type": "code",
   "execution_count": 12,
   "id": "64e595c6",
   "metadata": {},
   "outputs": [
    {
     "name": "stdout",
     "output_type": "stream",
     "text": [
      "    firstname   lastname       ilkid    year   gp  minutes   pts  dreb  oreb  \\\n",
      "0       Allan    Houston  HoustAl01   1999.5  1.0     16.5   8.0   1.5   0.0   \n",
      "1       Allen    Iverson  IversAl01   2001.0  1.0     28.8  18.8   1.6   1.2   \n",
      "2      Alonzo   Mourning  MournAl01   2000.0  1.0     21.5  14.0   3.5   1.5   \n",
      "3      Andrei  Kirilenko  KirilAn01   2003.0  1.0     12.0   2.0   1.0   0.0   \n",
      "4    Anfernee   Hardaway  HardaAn01   1997.0  1.0     12.0   6.0   0.0   0.0   \n",
      "..        ...        ...         ...     ...  ...      ...   ...   ...   ...   \n",
      "104    Warren     Jabali  JabalWa01   1972.5  1.0     27.5  11.0   1.5   1.5   \n",
      "105    Willie       Wise  WiseWi01    1972.5  1.0     31.0  17.0   2.5   4.0   \n",
      "106       Yao       Ming  MingYa01    2002.5  1.0     17.5   9.0   2.0   1.0   \n",
      "107     Zelmo      Beaty  BeatyZe01   1972.0  1.0     15.0   6.0   4.0   0.0   \n",
      "108  Zydrunas  Ilgauskas  IlgauZy01   2002.0  1.0      4.0   0.0   0.0   0.0   \n",
      "\n",
      "     reb  ...  stl  blk  turnover   pf   fga  fgm  fta  ftm  tpa  tpm  \n",
      "0    1.5  ...  0.5  0.0       1.0  0.5   7.5  2.5  2.0  2.0  2.5  1.0  \n",
      "1    2.8  ...  2.2  0.0       4.2  1.0  15.4  7.0  5.2  4.0  1.2  0.8  \n",
      "2    5.0  ...  1.5  3.0       1.0  2.5   9.0  6.5  1.5  1.0  0.0  0.0  \n",
      "3    1.0  ...  0.0  1.0       0.0  0.0   3.0  1.0  0.0  0.0  1.0  0.0  \n",
      "4    0.0  ...  0.0  0.0       1.0  0.0   5.0  3.0  0.0  0.0  1.0  0.0  \n",
      "..   ...  ...  ...  ...       ...  ...   ...  ...  ...  ...  ...  ...  \n",
      "104  3.0  ...  2.0  0.0       2.5  2.0  13.5  5.0  2.0  0.5  3.0  0.5  \n",
      "105  6.5  ...  0.5  0.5       1.0  2.0  16.0  7.5  2.0  2.0  0.0  0.0  \n",
      "106  3.0  ...  0.0  0.0       0.0  1.5   7.5  4.5  0.0  0.0  1.0  0.0  \n",
      "107  4.0  ...  1.0  2.0       1.0  1.0   6.0  3.0  0.0  0.0  0.0  0.0  \n",
      "108  0.0  ...  0.0  0.0       1.0  1.0   1.0  0.0  0.0  0.0  0.0  0.0  \n",
      "\n",
      "[109 rows x 21 columns]\n"
     ]
    }
   ],
   "source": [
    "# Group the data by first name and last name, and take the mean of the other features\n",
    "df_grouped = df_records_dropped.groupby(['firstname', 'lastname', 'ilkid']).mean().reset_index()\n",
    "print(df_grouped)"
   ]
  },
  {
   "cell_type": "code",
   "execution_count": 13,
   "id": "40105255",
   "metadata": {},
   "outputs": [],
   "source": [
    "# Save the grouped data to a new text file\n",
    "df_grouped.to_csv('player_allstar_grouped.txt', index=False)"
   ]
  },
  {
   "cell_type": "code",
   "execution_count": null,
   "id": "092215b1",
   "metadata": {},
   "outputs": [],
   "source": []
  }
 ],
 "metadata": {
  "kernelspec": {
   "display_name": "Python 3 (ipykernel)",
   "language": "python",
   "name": "python3"
  },
  "language_info": {
   "codemirror_mode": {
    "name": "ipython",
    "version": 3
   },
   "file_extension": ".py",
   "mimetype": "text/x-python",
   "name": "python",
   "nbconvert_exporter": "python",
   "pygments_lexer": "ipython3",
   "version": "3.9.13"
  }
 },
 "nbformat": 4,
 "nbformat_minor": 5
}
